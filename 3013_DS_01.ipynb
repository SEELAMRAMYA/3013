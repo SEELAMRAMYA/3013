{
  "nbformat": 4,
  "nbformat_minor": 0,
  "metadata": {
    "colab": {
      "provenance": [],
      "collapsed_sections": []
    },
    "kernelspec": {
      "name": "python3",
      "display_name": "Python 3"
    },
    "language_info": {
      "name": "python"
    }
  },
  "cells": [
    {
      "cell_type": "markdown",
      "source": [
        "NAME:SEELAM RAMYA     \n",
        "REG.NO:3013      \n",
        "INTERNSHIP:DATASCIENCE   \n",
        "DATE:14-10-2022   "
      ],
      "metadata": {
        "id": "CVmEQ92PTCqL"
      }
    },
    {
      "cell_type": "markdown",
      "source": [
        "1.Identify Variables and their Types (Quantitative or Qualitative)\n",
        "\n",
        "STUDENT NO : Quantitative(Discrete)        \n",
        "DEGREE : Quantitative(Continuous)           \n",
        "INTERMEDIATE : Quantitative(Continuous)                \n",
        "SSC : Quantitative(Continuous)               \n",
        "INTERNSHIP : Qualitative(Nominal)"
      ],
      "metadata": {
        "id": "7Kta3uSGMQLC"
      }
    },
    {
      "cell_type": "code",
      "source": [
        "import pandas as pd\n",
        "import seaborn as sns\n",
        "import numpy as np\n",
        "from matplotlib import pyplot as plt\n",
        "import scipy.stats as stats"
      ],
      "metadata": {
        "id": "1458SYFsVLox"
      },
      "execution_count": 1,
      "outputs": []
    },
    {
      "cell_type": "code",
      "source": [
        "from google.colab import files\n",
        "uploaded=files.upload()"
      ],
      "metadata": {
        "colab": {
          "base_uri": "https://localhost:8080/",
          "height": 74
        },
        "id": "MtP0o4VwZ3xC",
        "outputId": "106f316e-c3ed-4862-bebe-bedab80f845b"
      },
      "execution_count": 2,
      "outputs": [
        {
          "output_type": "display_data",
          "data": {
            "text/plain": [
              "<IPython.core.display.HTML object>"
            ],
            "text/html": [
              "\n",
              "     <input type=\"file\" id=\"files-9db1bf02-b043-4470-8347-3bcba2764351\" name=\"files[]\" multiple disabled\n",
              "        style=\"border:none\" />\n",
              "     <output id=\"result-9db1bf02-b043-4470-8347-3bcba2764351\">\n",
              "      Upload widget is only available when the cell has been executed in the\n",
              "      current browser session. Please rerun this cell to enable.\n",
              "      </output>\n",
              "      <script>// Copyright 2017 Google LLC\n",
              "//\n",
              "// Licensed under the Apache License, Version 2.0 (the \"License\");\n",
              "// you may not use this file except in compliance with the License.\n",
              "// You may obtain a copy of the License at\n",
              "//\n",
              "//      http://www.apache.org/licenses/LICENSE-2.0\n",
              "//\n",
              "// Unless required by applicable law or agreed to in writing, software\n",
              "// distributed under the License is distributed on an \"AS IS\" BASIS,\n",
              "// WITHOUT WARRANTIES OR CONDITIONS OF ANY KIND, either express or implied.\n",
              "// See the License for the specific language governing permissions and\n",
              "// limitations under the License.\n",
              "\n",
              "/**\n",
              " * @fileoverview Helpers for google.colab Python module.\n",
              " */\n",
              "(function(scope) {\n",
              "function span(text, styleAttributes = {}) {\n",
              "  const element = document.createElement('span');\n",
              "  element.textContent = text;\n",
              "  for (const key of Object.keys(styleAttributes)) {\n",
              "    element.style[key] = styleAttributes[key];\n",
              "  }\n",
              "  return element;\n",
              "}\n",
              "\n",
              "// Max number of bytes which will be uploaded at a time.\n",
              "const MAX_PAYLOAD_SIZE = 100 * 1024;\n",
              "\n",
              "function _uploadFiles(inputId, outputId) {\n",
              "  const steps = uploadFilesStep(inputId, outputId);\n",
              "  const outputElement = document.getElementById(outputId);\n",
              "  // Cache steps on the outputElement to make it available for the next call\n",
              "  // to uploadFilesContinue from Python.\n",
              "  outputElement.steps = steps;\n",
              "\n",
              "  return _uploadFilesContinue(outputId);\n",
              "}\n",
              "\n",
              "// This is roughly an async generator (not supported in the browser yet),\n",
              "// where there are multiple asynchronous steps and the Python side is going\n",
              "// to poll for completion of each step.\n",
              "// This uses a Promise to block the python side on completion of each step,\n",
              "// then passes the result of the previous step as the input to the next step.\n",
              "function _uploadFilesContinue(outputId) {\n",
              "  const outputElement = document.getElementById(outputId);\n",
              "  const steps = outputElement.steps;\n",
              "\n",
              "  const next = steps.next(outputElement.lastPromiseValue);\n",
              "  return Promise.resolve(next.value.promise).then((value) => {\n",
              "    // Cache the last promise value to make it available to the next\n",
              "    // step of the generator.\n",
              "    outputElement.lastPromiseValue = value;\n",
              "    return next.value.response;\n",
              "  });\n",
              "}\n",
              "\n",
              "/**\n",
              " * Generator function which is called between each async step of the upload\n",
              " * process.\n",
              " * @param {string} inputId Element ID of the input file picker element.\n",
              " * @param {string} outputId Element ID of the output display.\n",
              " * @return {!Iterable<!Object>} Iterable of next steps.\n",
              " */\n",
              "function* uploadFilesStep(inputId, outputId) {\n",
              "  const inputElement = document.getElementById(inputId);\n",
              "  inputElement.disabled = false;\n",
              "\n",
              "  const outputElement = document.getElementById(outputId);\n",
              "  outputElement.innerHTML = '';\n",
              "\n",
              "  const pickedPromise = new Promise((resolve) => {\n",
              "    inputElement.addEventListener('change', (e) => {\n",
              "      resolve(e.target.files);\n",
              "    });\n",
              "  });\n",
              "\n",
              "  const cancel = document.createElement('button');\n",
              "  inputElement.parentElement.appendChild(cancel);\n",
              "  cancel.textContent = 'Cancel upload';\n",
              "  const cancelPromise = new Promise((resolve) => {\n",
              "    cancel.onclick = () => {\n",
              "      resolve(null);\n",
              "    };\n",
              "  });\n",
              "\n",
              "  // Wait for the user to pick the files.\n",
              "  const files = yield {\n",
              "    promise: Promise.race([pickedPromise, cancelPromise]),\n",
              "    response: {\n",
              "      action: 'starting',\n",
              "    }\n",
              "  };\n",
              "\n",
              "  cancel.remove();\n",
              "\n",
              "  // Disable the input element since further picks are not allowed.\n",
              "  inputElement.disabled = true;\n",
              "\n",
              "  if (!files) {\n",
              "    return {\n",
              "      response: {\n",
              "        action: 'complete',\n",
              "      }\n",
              "    };\n",
              "  }\n",
              "\n",
              "  for (const file of files) {\n",
              "    const li = document.createElement('li');\n",
              "    li.append(span(file.name, {fontWeight: 'bold'}));\n",
              "    li.append(span(\n",
              "        `(${file.type || 'n/a'}) - ${file.size} bytes, ` +\n",
              "        `last modified: ${\n",
              "            file.lastModifiedDate ? file.lastModifiedDate.toLocaleDateString() :\n",
              "                                    'n/a'} - `));\n",
              "    const percent = span('0% done');\n",
              "    li.appendChild(percent);\n",
              "\n",
              "    outputElement.appendChild(li);\n",
              "\n",
              "    const fileDataPromise = new Promise((resolve) => {\n",
              "      const reader = new FileReader();\n",
              "      reader.onload = (e) => {\n",
              "        resolve(e.target.result);\n",
              "      };\n",
              "      reader.readAsArrayBuffer(file);\n",
              "    });\n",
              "    // Wait for the data to be ready.\n",
              "    let fileData = yield {\n",
              "      promise: fileDataPromise,\n",
              "      response: {\n",
              "        action: 'continue',\n",
              "      }\n",
              "    };\n",
              "\n",
              "    // Use a chunked sending to avoid message size limits. See b/62115660.\n",
              "    let position = 0;\n",
              "    do {\n",
              "      const length = Math.min(fileData.byteLength - position, MAX_PAYLOAD_SIZE);\n",
              "      const chunk = new Uint8Array(fileData, position, length);\n",
              "      position += length;\n",
              "\n",
              "      const base64 = btoa(String.fromCharCode.apply(null, chunk));\n",
              "      yield {\n",
              "        response: {\n",
              "          action: 'append',\n",
              "          file: file.name,\n",
              "          data: base64,\n",
              "        },\n",
              "      };\n",
              "\n",
              "      let percentDone = fileData.byteLength === 0 ?\n",
              "          100 :\n",
              "          Math.round((position / fileData.byteLength) * 100);\n",
              "      percent.textContent = `${percentDone}% done`;\n",
              "\n",
              "    } while (position < fileData.byteLength);\n",
              "  }\n",
              "\n",
              "  // All done.\n",
              "  yield {\n",
              "    response: {\n",
              "      action: 'complete',\n",
              "    }\n",
              "  };\n",
              "}\n",
              "\n",
              "scope.google = scope.google || {};\n",
              "scope.google.colab = scope.google.colab || {};\n",
              "scope.google.colab._files = {\n",
              "  _uploadFiles,\n",
              "  _uploadFilesContinue,\n",
              "};\n",
              "})(self);\n",
              "</script> "
            ]
          },
          "metadata": {}
        },
        {
          "output_type": "stream",
          "name": "stdout",
          "text": [
            "Saving Enrollments_28092022.csv to Enrollments_28092022.csv\n"
          ]
        }
      ]
    },
    {
      "cell_type": "code",
      "source": [
        "data=pd.read_csv(\"Enrollments_28092022.csv\")"
      ],
      "metadata": {
        "id": "7k45y-MlbKzS"
      },
      "execution_count": null,
      "outputs": []
    },
    {
      "cell_type": "markdown",
      "source": [
        "2 .Size of Data (No. of Rows and Columns)"
      ],
      "metadata": {
        "id": "3W0pjhzukuC0"
      }
    },
    {
      "cell_type": "code",
      "source": [
        "\n",
        "print(data.shape)"
      ],
      "metadata": {
        "colab": {
          "base_uri": "https://localhost:8080/"
        },
        "id": "Db8b-rO1bZ1N",
        "outputId": "aa21f66a-4f99-444f-821d-202f622aabcc"
      },
      "execution_count": null,
      "outputs": [
        {
          "output_type": "stream",
          "name": "stdout",
          "text": [
            "(297, 5)\n"
          ]
        }
      ]
    },
    {
      "cell_type": "code",
      "source": [
        "print(data)"
      ],
      "metadata": {
        "colab": {
          "base_uri": "https://localhost:8080/"
        },
        "id": "uCEW_QP18uFY",
        "outputId": "c8bd11b5-8b40-4930-86ce-2b9101e233f1"
      },
      "execution_count": null,
      "outputs": [
        {
          "output_type": "stream",
          "name": "stdout",
          "text": [
            "     StudentNo  DEGREE  INTERMEDIATE   SSC                      INTERNSHIP\n",
            "0         1001    8.10          76.0  92.0                    Data Science\n",
            "1         1002    8.10          76.0  92.0      MEAN Stack Web Development\n",
            "2         1003    7.80          94.6  92.0      MEAN Stack Web Development\n",
            "3         1004    9.03          89.5  89.0                    Data Science\n",
            "4         1005    8.38          87.0  90.0      MEAN Stack Web Development\n",
            "..         ...     ...           ...   ...                             ...\n",
            "292       2188    8.70          94.1  93.0                    Data Science\n",
            "293       2189    8.45          90.0  93.0                    Data Science\n",
            "294       2190    8.40          94.9  98.0                    Data Science\n",
            "295       2191    7.06          90.6  88.0  Cloud Computing Services (AWS)\n",
            "296       2192    7.50          95.5  95.0  Cloud Computing Services (AWS)\n",
            "\n",
            "[297 rows x 5 columns]\n"
          ]
        }
      ]
    },
    {
      "cell_type": "markdown",
      "source": [
        "3.Prepare Histogram for Degree, Inter and 10th Class"
      ],
      "metadata": {
        "id": "1Wf-Gx7dnI90"
      }
    },
    {
      "cell_type": "code",
      "source": [
        "data.hist(column='DEGREE')\n"
      ],
      "metadata": {
        "colab": {
          "base_uri": "https://localhost:8080/",
          "height": 333
        },
        "id": "bZzmVb_7fzCD",
        "outputId": "4726e1c0-5be8-4ee3-8057-df01880f6949"
      },
      "execution_count": null,
      "outputs": [
        {
          "output_type": "execute_result",
          "data": {
            "text/plain": [
              "array([[<matplotlib.axes._subplots.AxesSubplot object at 0x7f743c367110>]],\n",
              "      dtype=object)"
            ]
          },
          "metadata": {},
          "execution_count": 6
        },
        {
          "output_type": "display_data",
          "data": {
            "text/plain": [
              "<Figure size 432x288 with 1 Axes>"
            ],
            "image/png": "[encoded data removed]"
          },
          "metadata": {
            "needs_background": "light"
          }
        }
      ]
    },
    {
      "cell_type": "markdown",
      "source": [
        "     "
      ],
      "metadata": {
        "id": "OBmVXdHTuUXL"
      }
    },
    {
      "cell_type": "markdown",
      "source": [
        "    "
      ],
      "metadata": {
        "id": "gJORClVVuUbR"
      }
    },
    {
      "cell_type": "markdown",
      "source": [
        "     "
      ],
      "metadata": {
        "id": "BRRPyJQOuUfU"
      }
    },
    {
      "cell_type": "markdown",
      "source": [
        "     "
      ],
      "metadata": {
        "id": "SspsBTJpuUii"
      }
    },
    {
      "cell_type": "code",
      "source": [
        "data.hist(column='SSC')"
      ],
      "metadata": {
        "colab": {
          "base_uri": "https://localhost:8080/",
          "height": 333
        },
        "id": "yjLypLTGi-14",
        "outputId": "7ef9b2dc-6119-4b2a-ae2c-1956896c0e12"
      },
      "execution_count": null,
      "outputs": [
        {
          "output_type": "execute_result",
          "data": {
            "text/plain": [
              "array([[<matplotlib.axes._subplots.AxesSubplot object at 0x7f743b9477d0>]],\n",
              "      dtype=object)"
            ]
          },
          "metadata": {},
          "execution_count": 7
        },
        {
          "output_type": "display_data",
          "data": {
            "text/plain": [
              "<Figure size 432x288 with 1 Axes>"
            ],
            "image/png": "[encoded data removed]"
          },
          "metadata": {
            "needs_background": "light"
          }
        }
      ]
    },
    {
      "cell_type": "code",
      "source": [
        "data.hist(column='INTERMEDIATE')"
      ],
      "metadata": {
        "colab": {
          "base_uri": "https://localhost:8080/",
          "height": 333
        },
        "id": "_tGWeFajjbgc",
        "outputId": "271d1029-8806-4583-92ae-e29fb2533019"
      },
      "execution_count": null,
      "outputs": [
        {
          "output_type": "execute_result",
          "data": {
            "text/plain": [
              "array([[<matplotlib.axes._subplots.AxesSubplot object at 0x7f743b49b190>]],\n",
              "      dtype=object)"
            ]
          },
          "metadata": {},
          "execution_count": 8
        },
        {
          "output_type": "display_data",
          "data": {
            "text/plain": [
              "<Figure size 432x288 with 1 Axes>"
            ],
            "image/png": "[encoded data removed]"
          },
          "metadata": {
            "needs_background": "light"
          }
        }
      ]
    },
    {
      "cell_type": "markdown",
      "source": [
        "4.Create Pie-Chart to represent the Enrollments for each Internship Program"
      ],
      "metadata": {
        "id": "8SyYDB9OlHHF"
      }
    },
    {
      "cell_type": "code",
      "source": [
        "import matplotlib.pyplot as plt\n",
        "sizes = [156,90,51]\n",
        "labels = 'Data Science', 'MEAN Stack Web Development', 'Cloud Computing Services (AWS)'\n",
        "plt.pie(sizes,labels = labels)\n",
        "plt.title(' Enrollments for each Internship Program')\n",
        "plt.axis('equal')\n",
        "plt.show()"
      ],
      "metadata": {
        "colab": {
          "base_uri": "https://localhost:8080/",
          "height": 284
        },
        "id": "bkThBaXA9xRo",
        "outputId": "27561ada-b3fe-4cff-a4d5-c5fa131d18d9"
      },
      "execution_count": null,
      "outputs": [
        {
          "output_type": "display_data",
          "data": {
            "text/plain": [
              "<Figure size 432x288 with 1 Axes>"
            ],
            "image/png": "[encoded data removed]"
          },
          "metadata": {}
        }
      ]
    },
    {
      "cell_type": "markdown",
      "source": [
        "5.Find No. of Enrollments for each Internship Program"
      ],
      "metadata": {
        "id": "b1vOcZP4nSUe"
      }
    },
    {
      "cell_type": "code",
      "source": [
        "data.value_counts('INTERNSHIP')"
      ],
      "metadata": {
        "colab": {
          "base_uri": "https://localhost:8080/"
        },
        "id": "i20Q77ob_Ine",
        "outputId": "fb68d539-33e3-45ab-fe3b-30fb6ee24ac7"
      },
      "execution_count": null,
      "outputs": [
        {
          "output_type": "execute_result",
          "data": {
            "text/plain": [
              "INTERNSHIP\n",
              "Data Science                      156\n",
              "Cloud Computing Services (AWS)     90\n",
              "MEAN Stack Web Development         51\n",
              "dtype: int64"
            ]
          },
          "metadata": {},
          "execution_count": 10
        }
      ]
    },
    {
      "cell_type": "markdown",
      "source": [
        "6.Find Measure of Central Tendency: MEAN for Degree, Inter and 10th"
      ],
      "metadata": {
        "id": "cQO4TlfMnZsd"
      }
    },
    {
      "cell_type": "code",
      "source": [
        "df1=data[\"DEGREE\"].mean()\n",
        "df1"
      ],
      "metadata": {
        "colab": {
          "base_uri": "https://localhost:8080/"
        },
        "id": "58_TyRsmAFD7",
        "outputId": "49064857-c003-4e2f-a87e-591dfd72bce6"
      },
      "execution_count": null,
      "outputs": [
        {
          "output_type": "execute_result",
          "data": {
            "text/plain": [
              "7.928080808080809"
            ]
          },
          "metadata": {},
          "execution_count": 11
        }
      ]
    },
    {
      "cell_type": "code",
      "source": [
        "df2=data[\"SSC\"].mean()\n",
        "df2"
      ],
      "metadata": {
        "colab": {
          "base_uri": "https://localhost:8080/"
        },
        "id": "DjMUg0TyBC95",
        "outputId": "1b59365a-ee1c-4af7-9a86-72bf3881f5a1"
      },
      "execution_count": null,
      "outputs": [
        {
          "output_type": "execute_result",
          "data": {
            "text/plain": [
              "88.10673400673402"
            ]
          },
          "metadata": {},
          "execution_count": 12
        }
      ]
    },
    {
      "cell_type": "code",
      "source": [
        "df3=data[\"INTERMEDIATE\"].mean()\n",
        "df3"
      ],
      "metadata": {
        "colab": {
          "base_uri": "https://localhost:8080/"
        },
        "id": "mi3-o__RBBxh",
        "outputId": "6fe1eb0b-b483-42b5-9dd8-9bb79b0f6a72"
      },
      "execution_count": null,
      "outputs": [
        {
          "output_type": "execute_result",
          "data": {
            "text/plain": [
              "88.66262626262626"
            ]
          },
          "metadata": {},
          "execution_count": 13
        }
      ]
    },
    {
      "cell_type": "code",
      "source": [
        "#6.Find Measure of Central Tendency:MEDIAN for Degree, Inter and 10th\n",
        "data['DEGREE'].median()"
      ],
      "metadata": {
        "colab": {
          "base_uri": "https://localhost:8080/"
        },
        "id": "_CN6IE14Bfww",
        "outputId": "d348b3a2-eefa-4cf4-937f-448c08f01f9e"
      },
      "execution_count": null,
      "outputs": [
        {
          "output_type": "execute_result",
          "data": {
            "text/plain": [
              "8.0"
            ]
          },
          "metadata": {},
          "execution_count": 14
        }
      ]
    },
    {
      "cell_type": "code",
      "source": [
        "data['SSC'].median()"
      ],
      "metadata": {
        "colab": {
          "base_uri": "https://localhost:8080/"
        },
        "id": "_fNiVbTbCAnj",
        "outputId": "83d243e6-f3f5-4c36-a911-40b6e750912c"
      },
      "execution_count": null,
      "outputs": [
        {
          "output_type": "execute_result",
          "data": {
            "text/plain": [
              "90.0"
            ]
          },
          "metadata": {},
          "execution_count": 15
        }
      ]
    },
    {
      "cell_type": "code",
      "source": [
        "data['INTERMEDIATE'].median()"
      ],
      "metadata": {
        "colab": {
          "base_uri": "https://localhost:8080/"
        },
        "id": "ETCVT2xsCAuu",
        "outputId": "bcc313d4-168f-4146-8c60-a4b695d119f9"
      },
      "execution_count": null,
      "outputs": [
        {
          "output_type": "execute_result",
          "data": {
            "text/plain": [
              "90.8"
            ]
          },
          "metadata": {},
          "execution_count": 16
        }
      ]
    },
    {
      "cell_type": "code",
      "source": [
        "#6.Find Measure of Central Tendency:MODE for Degree, Inter and 10th\n",
        "data['DEGREE'].mode()"
      ],
      "metadata": {
        "colab": {
          "base_uri": "https://localhost:8080/"
        },
        "id": "L2_RnbOxCP-M",
        "outputId": "b04c9229-288b-46e8-d3e3-3247d7356c49"
      },
      "execution_count": null,
      "outputs": [
        {
          "output_type": "execute_result",
          "data": {
            "text/plain": [
              "0    7.0\n",
              "dtype: float64"
            ]
          },
          "metadata": {},
          "execution_count": 17
        }
      ]
    },
    {
      "cell_type": "code",
      "source": [
        "data['SSC'].mode()"
      ],
      "metadata": {
        "colab": {
          "base_uri": "https://localhost:8080/"
        },
        "id": "7SrPAENVCvGq",
        "outputId": "d5345f03-8e09-4a5c-edc9-deaea7ba64e3"
      },
      "execution_count": null,
      "outputs": [
        {
          "output_type": "execute_result",
          "data": {
            "text/plain": [
              "0    95.0\n",
              "dtype: float64"
            ]
          },
          "metadata": {},
          "execution_count": 18
        }
      ]
    },
    {
      "cell_type": "code",
      "source": [
        "data['INTERMEDIATE'].mode()"
      ],
      "metadata": {
        "colab": {
          "base_uri": "https://localhost:8080/"
        },
        "id": "GhexCJuzCa_H",
        "outputId": "1e41f2d5-7bd4-41be-904f-0651eecb4b07"
      },
      "execution_count": null,
      "outputs": [
        {
          "output_type": "execute_result",
          "data": {
            "text/plain": [
              "0    95.0\n",
              "dtype: float64"
            ]
          },
          "metadata": {},
          "execution_count": 19
        }
      ]
    },
    {
      "cell_type": "markdown",
      "source": [
        "7.Find Measure of Variance: Minimum, Maximum, Range, Mean Deviation, Standard Deviation, Co-efficient of Variation for Degree, Inter and 10th"
      ],
      "metadata": {
        "id": "1nT6-BqDlX5N"
      }
    },
    {
      "cell_type": "code",
      "source": [
        "print(data.DEGREE.var())"
      ],
      "metadata": {
        "colab": {
          "base_uri": "https://localhost:8080/"
        },
        "id": "pxoIwMzwC7pn",
        "outputId": "99bba022-eb24-4051-edff-4ec35d9171a8"
      },
      "execution_count": null,
      "outputs": [
        {
          "output_type": "stream",
          "name": "stdout",
          "text": [
            "0.6171338042588043\n"
          ]
        }
      ]
    },
    {
      "cell_type": "code",
      "source": [
        "print(data.INTERMEDIATE.var())"
      ],
      "metadata": {
        "colab": {
          "base_uri": "https://localhost:8080/"
        },
        "id": "XxMbVslgE0rO",
        "outputId": "91816fe2-57d4-40d9-904d-55e7e4cc421a"
      },
      "execution_count": null,
      "outputs": [
        {
          "output_type": "stream",
          "name": "stdout",
          "text": [
            "54.106804565929565\n"
          ]
        }
      ]
    },
    {
      "cell_type": "code",
      "source": [
        "print(data.SSC.var())"
      ],
      "metadata": {
        "colab": {
          "base_uri": "https://localhost:8080/"
        },
        "id": "n2yfa3j3E4uc",
        "outputId": "e7bb0403-3382-4d50-fc30-da0bd7f66fee"
      },
      "execution_count": null,
      "outputs": [
        {
          "output_type": "stream",
          "name": "stdout",
          "text": [
            "81.50449841887342\n"
          ]
        }
      ]
    },
    {
      "cell_type": "code",
      "source": [
        "#7.Find Measure of Variance: Minimum, Maximum, for Degree, Inter and 10th\n",
        "data.DEGREE.min()"
      ],
      "metadata": {
        "colab": {
          "base_uri": "https://localhost:8080/"
        },
        "id": "T0Q244VaFc_G",
        "outputId": "35635edc-ae01-466c-ce51-6be197226e72"
      },
      "execution_count": null,
      "outputs": [
        {
          "output_type": "execute_result",
          "data": {
            "text/plain": [
              "5.8"
            ]
          },
          "metadata": {},
          "execution_count": 23
        }
      ]
    },
    {
      "cell_type": "code",
      "source": [
        "data.DEGREE.max()"
      ],
      "metadata": {
        "colab": {
          "base_uri": "https://localhost:8080/"
        },
        "id": "4MWfa6PyGVA2",
        "outputId": "ec287c31-de18-4223-d3e1-effba8b03b91"
      },
      "execution_count": null,
      "outputs": [
        {
          "output_type": "execute_result",
          "data": {
            "text/plain": [
              "9.53"
            ]
          },
          "metadata": {},
          "execution_count": 24
        }
      ]
    },
    {
      "cell_type": "code",
      "source": [
        "data.INTERMEDIATE.min()"
      ],
      "metadata": {
        "colab": {
          "base_uri": "https://localhost:8080/"
        },
        "id": "l_ArXzlxF6Ch",
        "outputId": "228f8db1-2669-4343-820a-47bf10c62c59"
      },
      "execution_count": null,
      "outputs": [
        {
          "output_type": "execute_result",
          "data": {
            "text/plain": [
              "65.0"
            ]
          },
          "metadata": {},
          "execution_count": 25
        }
      ]
    },
    {
      "cell_type": "code",
      "source": [
        "data.INTERMEDIATE.max()"
      ],
      "metadata": {
        "colab": {
          "base_uri": "https://localhost:8080/"
        },
        "id": "X98_T9qVGZud",
        "outputId": "69fa6a24-556c-4a73-ce0e-58cc38e79967"
      },
      "execution_count": null,
      "outputs": [
        {
          "output_type": "execute_result",
          "data": {
            "text/plain": [
              "99.4"
            ]
          },
          "metadata": {},
          "execution_count": 26
        }
      ]
    },
    {
      "cell_type": "code",
      "source": [
        "data.SSC.min()"
      ],
      "metadata": {
        "colab": {
          "base_uri": "https://localhost:8080/"
        },
        "id": "1U1AgsixGQPI",
        "outputId": "175dbaf9-0bbd-4158-c6a7-5d8f13968664"
      },
      "execution_count": null,
      "outputs": [
        {
          "output_type": "execute_result",
          "data": {
            "text/plain": [
              "38.4"
            ]
          },
          "metadata": {},
          "execution_count": 27
        }
      ]
    },
    {
      "cell_type": "code",
      "source": [
        "data.SSC.max()"
      ],
      "metadata": {
        "colab": {
          "base_uri": "https://localhost:8080/"
        },
        "id": "YIdlsFATGdSg",
        "outputId": "eb4c9ed3-e3c6-4c58-b239-7fa925e30b86"
      },
      "execution_count": null,
      "outputs": [
        {
          "output_type": "execute_result",
          "data": {
            "text/plain": [
              "99.0"
            ]
          },
          "metadata": {},
          "execution_count": 28
        }
      ]
    },
    {
      "cell_type": "code",
      "source": [
        "#7.Find Measure of Variance: Range for Degree, Inter and 10th\n",
        "data.INTERMEDIATE.max()-data.INTERMEDIATE.min()"
      ],
      "metadata": {
        "colab": {
          "base_uri": "https://localhost:8080/"
        },
        "id": "oeEjPnioG8DS",
        "outputId": "f25b3b8e-0ea5-402a-aacd-0ba531d0c747"
      },
      "execution_count": null,
      "outputs": [
        {
          "output_type": "execute_result",
          "data": {
            "text/plain": [
              "34.400000000000006"
            ]
          },
          "metadata": {},
          "execution_count": 29
        }
      ]
    },
    {
      "cell_type": "code",
      "source": [
        "data.DEGREE.max()-data.DEGREE.min()"
      ],
      "metadata": {
        "colab": {
          "base_uri": "https://localhost:8080/"
        },
        "id": "tlEi9AU4KavP",
        "outputId": "978dc5ba-e68b-47a3-ee12-b0bece5d304a"
      },
      "execution_count": null,
      "outputs": [
        {
          "output_type": "execute_result",
          "data": {
            "text/plain": [
              "3.7299999999999995"
            ]
          },
          "metadata": {},
          "execution_count": 30
        }
      ]
    },
    {
      "cell_type": "code",
      "source": [
        "data.SSC.max()-data.SSC.min()"
      ],
      "metadata": {
        "colab": {
          "base_uri": "https://localhost:8080/"
        },
        "id": "psuqnCdaKa7o",
        "outputId": "da3326f5-f52f-4c7a-ead0-540cd10b3f1a"
      },
      "execution_count": null,
      "outputs": [
        {
          "output_type": "execute_result",
          "data": {
            "text/plain": [
              "60.6"
            ]
          },
          "metadata": {},
          "execution_count": 31
        }
      ]
    },
    {
      "cell_type": "code",
      "source": [
        "#7.Find Measure of Variance: STANDARD DEVIATION for Degree, Inter and 10th\n",
        "print(data['DEGREE'].std())"
      ],
      "metadata": {
        "colab": {
          "base_uri": "https://localhost:8080/"
        },
        "id": "FVmXqj2wLKGl",
        "outputId": "41477a9f-9457-4bf1-e35f-87574b3b6bd8"
      },
      "execution_count": null,
      "outputs": [
        {
          "output_type": "stream",
          "name": "stdout",
          "text": [
            "0.7855786429497713\n"
          ]
        }
      ]
    },
    {
      "cell_type": "code",
      "source": [
        "print(data['INTERMEDIATE'].std())"
      ],
      "metadata": {
        "colab": {
          "base_uri": "https://localhost:8080/"
        },
        "id": "KXQQTYu2LPJl",
        "outputId": "f6850edf-0418-4b84-c809-afd27f9d5f3d"
      },
      "execution_count": null,
      "outputs": [
        {
          "output_type": "stream",
          "name": "stdout",
          "text": [
            "7.35573276879534\n"
          ]
        }
      ]
    },
    {
      "cell_type": "code",
      "source": [
        "print(data['SSC'].std())"
      ],
      "metadata": {
        "colab": {
          "base_uri": "https://localhost:8080/"
        },
        "id": "Qd3PchgmLPOK",
        "outputId": "aa07fc1f-f716-4370-c3c5-d37793589269"
      },
      "execution_count": null,
      "outputs": [
        {
          "output_type": "stream",
          "name": "stdout",
          "text": [
            "9.027984183574615\n"
          ]
        }
      ]
    },
    {
      "cell_type": "code",
      "source": [
        "#7.Find Measure of Variance: MEAN DEVIATION for Degree, Inter and 10th\n",
        "print(data['DEGREE'].mad())"
      ],
      "metadata": {
        "colab": {
          "base_uri": "https://localhost:8080/"
        },
        "id": "mfpFfhn4MEzF",
        "outputId": "97660727-9dbb-4369-e040-74147210fcd4"
      },
      "execution_count": null,
      "outputs": [
        {
          "output_type": "stream",
          "name": "stdout",
          "text": [
            "0.6475638540285004\n"
          ]
        }
      ]
    },
    {
      "cell_type": "code",
      "source": [
        "print(data['INTERMEDIATE'].mad())"
      ],
      "metadata": {
        "colab": {
          "base_uri": "https://localhost:8080/"
        },
        "id": "F4JjfQZIMRIK",
        "outputId": "64db9283-e6dc-457e-c5e2-c5f02ed141a2"
      },
      "execution_count": null,
      "outputs": [
        {
          "output_type": "stream",
          "name": "stdout",
          "text": [
            "6.0779825187906\n"
          ]
        }
      ]
    },
    {
      "cell_type": "code",
      "source": [
        "print(data['SSC'].mad())"
      ],
      "metadata": {
        "colab": {
          "base_uri": "https://localhost:8080/"
        },
        "id": "aRJgMUDQMRRJ",
        "outputId": "2273ddb6-56cc-4081-80b6-e880170733fb"
      },
      "execution_count": null,
      "outputs": [
        {
          "output_type": "stream",
          "name": "stdout",
          "text": [
            "6.5146492988243825\n"
          ]
        }
      ]
    },
    {
      "cell_type": "code",
      "source": [
        "#7.Find Measure of Variance:  Co-efficient of Variation for Degree, Inter and 10th \n",
        "cv=(data['DEGREE'].std()/df1)\n",
        "cv"
      ],
      "metadata": {
        "colab": {
          "base_uri": "https://localhost:8080/"
        },
        "id": "w-SInde1OC4y",
        "outputId": "d6e3517c-b611-4f93-c1c5-feea8d79c570"
      },
      "execution_count": null,
      "outputs": [
        {
          "output_type": "execute_result",
          "data": {
            "text/plain": [
              "0.09908812258183079"
            ]
          },
          "metadata": {},
          "execution_count": 38
        }
      ]
    },
    {
      "cell_type": "code",
      "source": [
        "cv=(data['SSC'].std()/df2)\n",
        "cv"
      ],
      "metadata": {
        "colab": {
          "base_uri": "https://localhost:8080/"
        },
        "id": "4RbsDgjaNh9t",
        "outputId": "ab6d7226-86f3-4a9e-e643-9ee633195195"
      },
      "execution_count": null,
      "outputs": [
        {
          "output_type": "execute_result",
          "data": {
            "text/plain": [
              "0.10246644919200619"
            ]
          },
          "metadata": {},
          "execution_count": 39
        }
      ]
    },
    {
      "cell_type": "code",
      "source": [
        "cv=(data['INTERMEDIATE'].std()/df3)\n",
        "cv"
      ],
      "metadata": {
        "colab": {
          "base_uri": "https://localhost:8080/"
        },
        "id": "_scOZnfHNiIP",
        "outputId": "9c8f90fd-4e01-4f47-d1a0-a2ce1b14e4b4"
      },
      "execution_count": null,
      "outputs": [
        {
          "output_type": "execute_result",
          "data": {
            "text/plain": [
              "0.0829631726338337"
            ]
          },
          "metadata": {},
          "execution_count": 40
        }
      ]
    },
    {
      "cell_type": "markdown",
      "source": [
        "8.Measures of Position: Standard Scores,Inter-quartile Range for Degree, Inter and 10th"
      ],
      "metadata": {
        "id": "LT8u_RDdlf62"
      }
    },
    {
      "cell_type": "code",
      "source": [
        "stats.zscore(data.DEGREE)"
      ],
      "metadata": {
        "colab": {
          "base_uri": "https://localhost:8080/"
        },
        "id": "HAQRwWVuO_Pm",
        "outputId": "bb0c1fb6-a614-4fb5-9e16-7d21eecc2758"
      },
      "execution_count": null,
      "outputs": [
        {
          "output_type": "execute_result",
          "data": {
            "text/plain": [
              "0      0.219213\n",
              "1      0.219213\n",
              "2     -0.163315\n",
              "3      1.405052\n",
              "4      0.576240\n",
              "         ...   \n",
              "292    0.984271\n",
              "293    0.665497\n",
              "294    0.601742\n",
              "295   -1.106886\n",
              "296   -0.545844\n",
              "Name: DEGREE, Length: 297, dtype: float64"
            ]
          },
          "metadata": {},
          "execution_count": 41
        }
      ]
    },
    {
      "cell_type": "code",
      "source": [
        "stats.zscore(data.INTERMEDIATE)"
      ],
      "metadata": {
        "colab": {
          "base_uri": "https://localhost:8080/"
        },
        "id": "konHW4MTPh5k",
        "outputId": "1fb3d761-a356-4770-b680-53f5d5ca8f00"
      },
      "execution_count": null,
      "outputs": [
        {
          "output_type": "execute_result",
          "data": {
            "text/plain": [
              "0     -1.724369\n",
              "1     -1.724369\n",
              "2      0.808539\n",
              "3      0.114032\n",
              "4     -0.226413\n",
              "         ...   \n",
              "292    0.740450\n",
              "293    0.182121\n",
              "294    0.849392\n",
              "295    0.263827\n",
              "296    0.931099\n",
              "Name: INTERMEDIATE, Length: 297, dtype: float64"
            ]
          },
          "metadata": {},
          "execution_count": 42
        }
      ]
    },
    {
      "cell_type": "code",
      "source": [
        "stats.zscore(data.SSC)"
      ],
      "metadata": {
        "colab": {
          "base_uri": "https://localhost:8080/"
        },
        "id": "_PJO8dOdPh9v",
        "outputId": "134bb96d-090f-411f-d714-d6e6f0d5f075"
      },
      "execution_count": null,
      "outputs": [
        {
          "output_type": "execute_result",
          "data": {
            "text/plain": [
              "0      0.431972\n",
              "1      0.431972\n",
              "2      0.431972\n",
              "3      0.099111\n",
              "4      0.210065\n",
              "         ...   \n",
              "292    0.542926\n",
              "293    0.542926\n",
              "294    1.097694\n",
              "295   -0.011843\n",
              "296    0.764833\n",
              "Name: SSC, Length: 297, dtype: float64"
            ]
          },
          "metadata": {},
          "execution_count": 43
        }
      ]
    },
    {
      "cell_type": "code",
      "source": [
        "#8.Measures of Position:Inter-quartile Range for Degree, Inter and 10th\n",
        "q3,q1=np.percentile(data['DEGREE'],[7.5,2.5])\n",
        "iqr1=q3-q1\n",
        "iqr1"
      ],
      "metadata": {
        "colab": {
          "base_uri": "https://localhost:8080/"
        },
        "id": "0B3cuBBXSLOF",
        "outputId": "1d7566fa-47bd-45a4-8486-4ab573209c18"
      },
      "execution_count": null,
      "outputs": [
        {
          "output_type": "execute_result",
          "data": {
            "text/plain": [
              "0.242"
            ]
          },
          "metadata": {},
          "execution_count": 56
        }
      ]
    },
    {
      "cell_type": "code",
      "source": [
        "q3,q1=np.percentile(data['INTERMEDIATE'],[75,25])\n",
        "iqr2=q3-q1\n",
        "iqr2"
      ],
      "metadata": {
        "colab": {
          "base_uri": "https://localhost:8080/"
        },
        "id": "8D_m5ZUymLtu",
        "outputId": "8f8e164e-da0e-4080-bc38-41f0f469a98c"
      },
      "execution_count": null,
      "outputs": [
        {
          "output_type": "execute_result",
          "data": {
            "text/plain": [
              "11.599999999999994"
            ]
          },
          "metadata": {},
          "execution_count": 73
        }
      ]
    },
    {
      "cell_type": "code",
      "source": [
        "q3,q1=np.percentile(data['SSC'],[75,25])\n",
        "iqr3=q3-q1\n",
        "iqr3"
      ],
      "metadata": {
        "colab": {
          "base_uri": "https://localhost:8080/"
        },
        "id": "D2_jboL5mLxD",
        "outputId": "0059272f-645e-4063-f068-9f115e3c5850"
      },
      "execution_count": null,
      "outputs": [
        {
          "output_type": "execute_result",
          "data": {
            "text/plain": [
              "10.0"
            ]
          },
          "metadata": {},
          "execution_count": 74
        }
      ]
    },
    {
      "cell_type": "markdown",
      "source": [
        "9.Create Box Plot and Identify Outliers for Degree, Inter and 10th "
      ],
      "metadata": {
        "id": "QXgrObSElvwj"
      }
    },
    {
      "cell_type": "code",
      "source": [
        "boxplot=data.boxplot(column=['DEGREE','SSC','INTERMEDIATE'])"
      ],
      "metadata": {
        "colab": {
          "base_uri": "https://localhost:8080/",
          "height": 265
        },
        "id": "PZtUbrKMTVDU",
        "outputId": "32fd27a5-4a0a-4914-d8be-dfcadb4a84fd"
      },
      "execution_count": null,
      "outputs": [
        {
          "output_type": "display_data",
          "data": {
            "text/plain": [
              "<Figure size 432x288 with 1 Axes>"
            ],
            "image/png": "[encoded data removed]"
          },
          "metadata": {
            "needs_background": "light"
          }
        }
      ]
    },
    {
      "cell_type": "code",
      "source": [
        "#Outliers for Inter\n",
        "q3,q1=np.percentile(data['INTERMEDIATE'],[75,25])\n",
        "iqr2=q3-q1\n",
        "ul = q3+1.5*iqr2\n",
        "ll = q1-1.5*iqr2\n",
        "outliers = data['INTERMEDIATE'][(data['INTERMEDIATE'] > ul) | (data['INTERMEDIATE'] < ll)]\n",
        "outliers"
      ],
      "metadata": {
        "colab": {
          "base_uri": "https://localhost:8080/"
        },
        "id": "QPZSI1ENrZt0",
        "outputId": "6cbc36c8-0cf6-4c77-f600-9d01cf9c7ed6"
      },
      "execution_count": null,
      "outputs": [
        {
          "output_type": "execute_result",
          "data": {
            "text/plain": [
              "271    65.0\n",
              "Name: INTERMEDIATE, dtype: float64"
            ]
          },
          "metadata": {},
          "execution_count": 77
        }
      ]
    },
    {
      "cell_type": "code",
      "source": [
        " #outliers for Degree\n",
        "q3,q1=np.percentile(data['DEGREE'],[7.5,2.5])\n",
        "iqr3=q3-q1\n",
        "ul = q3+1.5*iqr3\n",
        "ll = q1-1.5*iqr3\n",
        "outliers = data['DEGREE'][(data['DEGREE'] > ul) | (data['DEGREE'] < ll)]\n",
        "outliers"
      ],
      "metadata": {
        "colab": {
          "base_uri": "https://localhost:8080/"
        },
        "id": "MZdEz9YyrpPK",
        "outputId": "dcdadc30-474d-4b8a-e5eb-a77d45b75819"
      },
      "execution_count": null,
      "outputs": [
        {
          "output_type": "execute_result",
          "data": {
            "text/plain": [
              "0      8.10\n",
              "1      8.10\n",
              "2      7.80\n",
              "3      9.03\n",
              "4      8.38\n",
              "       ... \n",
              "292    8.70\n",
              "293    8.45\n",
              "294    8.40\n",
              "295    7.06\n",
              "296    7.50\n",
              "Name: DEGREE, Length: 252, dtype: float64"
            ]
          },
          "metadata": {},
          "execution_count": 78
        }
      ]
    },
    {
      "cell_type": "code",
      "source": [
        " #outliers for ssc\n",
        "q3,q1=np.percentile(data['SSC'],[75,25])\n",
        "iqr3=q3-q1\n",
        "ul = q3+1.5*iqr3\n",
        "ll = q1-1.5*iqr3\n",
        "outliers = data['SSC'][(data['SSC'] > ul) | (data['SSC'] < ll)]\n",
        "outliers"
      ],
      "metadata": {
        "colab": {
          "base_uri": "https://localhost:8080/"
        },
        "id": "JSE1Eg3arpU2",
        "outputId": "02f6cc79-afc4-465b-b0ff-4f4dc289e132"
      },
      "execution_count": null,
      "outputs": [
        {
          "output_type": "execute_result",
          "data": {
            "text/plain": [
              "5      64.0\n",
              "31     60.0\n",
              "51     68.0\n",
              "69     60.0\n",
              "82     65.6\n",
              "86     50.0\n",
              "107    64.0\n",
              "236    38.4\n",
              "237    67.0\n",
              "243    40.2\n",
              "270    65.0\n",
              "288    65.0\n",
              "Name: SSC, dtype: float64"
            ]
          },
          "metadata": {},
          "execution_count": 76
        }
      ]
    },
    {
      "cell_type": "markdown",
      "source": [
        "10.Identify No.of students with 90% percentile for Degree, inter and 10th class"
      ],
      "metadata": {
        "id": "3a4XcgH4l06E"
      }
    },
    {
      "cell_type": "code",
      "source": [
        "data['INTERMEDIATE'].quantile(.90)"
      ],
      "metadata": {
        "colab": {
          "base_uri": "https://localhost:8080/"
        },
        "id": "HM_RSET8rNGL",
        "outputId": "efcac3a7-d5e8-4347-b8a6-35f05b14ae9b"
      },
      "execution_count": null,
      "outputs": [
        {
          "output_type": "execute_result",
          "data": {
            "text/plain": [
              "96.5"
            ]
          },
          "metadata": {},
          "execution_count": 68
        }
      ]
    },
    {
      "cell_type": "code",
      "source": [
        "rslt_df=data[data['INTERMEDIATE']==96.5]\n",
        "rslt_df"
      ],
      "metadata": {
        "colab": {
          "base_uri": "https://localhost:8080/",
          "height": 205
        },
        "id": "QWBwOToKm-2B",
        "outputId": "58617299-d252-4661-f5e9-4e84c0ab0cce"
      },
      "execution_count": null,
      "outputs": [
        {
          "output_type": "execute_result",
          "data": {
            "text/plain": [
              "     StudentNo  DEGREE  INTERMEDIATE   SSC                  INTERNSHIP\n",
              "39        1040    9.03          96.5  97.0                Data Science\n",
              "246       2142    8.04          96.5  87.0                Data Science\n",
              "257       2153    9.05          96.5  97.0  MEAN Stack Web Development"
            ],
            "text/html": [
              "\n",
              "  <div id=\"df-5a2455b8-737b-4fef-b54f-890b637dd7c1\">\n",
              "    <div class=\"colab-df-container\">\n",
              "      <div>\n",
              "<style scoped>\n",
              "    .dataframe tbody tr th:only-of-type {\n",
              "        vertical-align: middle;\n",
              "    }\n",
              "\n",
              "    .dataframe tbody tr th {\n",
              "        vertical-align: top;\n",
              "    }\n",
              "\n",
              "    .dataframe thead th {\n",
              "        text-align: right;\n",
              "    }\n",
              "</style>\n",
              "<table border=\"1\" class=\"dataframe\">\n",
              "  <thead>\n",
              "    <tr style=\"text-align: right;\">\n",
              "      <th></th>\n",
              "      <th>StudentNo</th>\n",
              "      <th>DEGREE</th>\n",
              "      <th>INTERMEDIATE</th>\n",
              "      <th>SSC</th>\n",
              "      <th>INTERNSHIP</th>\n",
              "    </tr>\n",
              "  </thead>\n",
              "  <tbody>\n",
              "    <tr>\n",
              "      <th>39</th>\n",
              "      <td>1040</td>\n",
              "      <td>9.03</td>\n",
              "      <td>96.5</td>\n",
              "      <td>97.0</td>\n",
              "      <td>Data Science</td>\n",
              "    </tr>\n",
              "    <tr>\n",
              "      <th>246</th>\n",
              "      <td>2142</td>\n",
              "      <td>8.04</td>\n",
              "      <td>96.5</td>\n",
              "      <td>87.0</td>\n",
              "      <td>Data Science</td>\n",
              "    </tr>\n",
              "    <tr>\n",
              "      <th>257</th>\n",
              "      <td>2153</td>\n",
              "      <td>9.05</td>\n",
              "      <td>96.5</td>\n",
              "      <td>97.0</td>\n",
              "      <td>MEAN Stack Web Development</td>\n",
              "    </tr>\n",
              "  </tbody>\n",
              "</table>\n",
              "</div>\n",
              "      <button class=\"colab-df-convert\" onclick=\"convertToInteractive('df-5a2455b8-737b-4fef-b54f-890b637dd7c1')\"\n",
              "              title=\"Convert this dataframe to an interactive table.\"\n",
              "              style=\"display:none;\">\n",
              "        \n",
              "  <svg xmlns=\"http://www.w3.org/2000/svg\" height=\"24px\"viewBox=\"0 0 24 24\"\n",
              "       width=\"24px\">\n",
              "    <path d=\"M0 0h24v24H0V0z\" fill=\"none\"/>\n",
              "    <path d=\"M18.56 5.44l.94 2.06.94-2.06 2.06-.94-2.06-.94-.94-2.06-.94 2.06-2.06.94zm-11 1L8.5 8.5l.94-2.06 2.06-.94-2.06-.94L8.5 2.5l-.94 2.06-2.06.94zm10 10l.94 2.06.94-2.06 2.06-.94-2.06-.94-.94-2.06-.94 2.06-2.06.94z\"/><path d=\"M17.41 7.96l-1.37-1.37c-.4-.4-.92-.59-1.43-.59-.52 0-1.04.2-1.43.59L10.3 9.45l-7.72 7.72c-.78.78-.78 2.05 0 2.83L4 21.41c.39.39.9.59 1.41.59.51 0 1.02-.2 1.41-.59l7.78-7.78 2.81-2.81c.8-.78.8-2.07 0-2.86zM5.41 20L4 18.59l7.72-7.72 1.47 1.35L5.41 20z\"/>\n",
              "  </svg>\n",
              "      </button>\n",
              "      \n",
              "  <style>\n",
              "    .colab-df-container {\n",
              "      display:flex;\n",
              "      flex-wrap:wrap;\n",
              "      gap: 12px;\n",
              "    }\n",
              "\n",
              "    .colab-df-convert {\n",
              "      background-color: #E8F0FE;\n",
              "      border: none;\n",
              "      border-radius: 50%;\n",
              "      cursor: pointer;\n",
              "      display: none;\n",
              "      fill: #1967D2;\n",
              "      height: 32px;\n",
              "      padding: 0 0 0 0;\n",
              "      width: 32px;\n",
              "    }\n",
              "\n",
              "    .colab-df-convert:hover {\n",
              "      background-color: #E2EBFA;\n",
              "      box-shadow: 0px 1px 2px rgba(60, 64, 67, 0.3), 0px 1px 3px 1px rgba(60, 64, 67, 0.15);\n",
              "      fill: #174EA6;\n",
              "    }\n",
              "\n",
              "    [theme=dark] .colab-df-convert {\n",
              "      background-color: #3B4455;\n",
              "      fill: #D2E3FC;\n",
              "    }\n",
              "\n",
              "    [theme=dark] .colab-df-convert:hover {\n",
              "      background-color: #434B5C;\n",
              "      box-shadow: 0px 1px 3px 1px rgba(0, 0, 0, 0.15);\n",
              "      filter: drop-shadow(0px 1px 2px rgba(0, 0, 0, 0.3));\n",
              "      fill: #FFFFFF;\n",
              "    }\n",
              "  </style>\n",
              "\n",
              "      <script>\n",
              "        const buttonEl =\n",
              "          document.querySelector('#df-5a2455b8-737b-4fef-b54f-890b637dd7c1 button.colab-df-convert');\n",
              "        buttonEl.style.display =\n",
              "          google.colab.kernel.accessAllowed ? 'block' : 'none';\n",
              "\n",
              "        async function convertToInteractive(key) {\n",
              "          const element = document.querySelector('#df-5a2455b8-737b-4fef-b54f-890b637dd7c1');\n",
              "          const dataTable =\n",
              "            await google.colab.kernel.invokeFunction('convertToInteractive',\n",
              "                                                     [key], {});\n",
              "          if (!dataTable) return;\n",
              "\n",
              "          const docLinkHtml = 'Like what you see? Visit the ' +\n",
              "            '<a target=\"_blank\" href=https://colab.research.google.com/notebooks/data_table.ipynb>data table notebook</a>'\n",
              "            + ' to learn more about interactive tables.';\n",
              "          element.innerHTML = '';\n",
              "          dataTable['output_type'] = 'display_data';\n",
              "          await google.colab.output.renderOutput(dataTable, element);\n",
              "          const docLink = document.createElement('div');\n",
              "          docLink.innerHTML = docLinkHtml;\n",
              "          element.appendChild(docLink);\n",
              "        }\n",
              "      </script>\n",
              "    </div>\n",
              "  </div>\n",
              "  "
            ]
          },
          "metadata": {},
          "execution_count": 69
        }
      ]
    },
    {
      "cell_type": "code",
      "source": [
        "data['SSC'].quantile(.90)"
      ],
      "metadata": {
        "colab": {
          "base_uri": "https://localhost:8080/"
        },
        "id": "Oc6iCinRrEgs",
        "outputId": "0f4f7500-1bd1-4372-c7db-010798debcff"
      },
      "execution_count": null,
      "outputs": [
        {
          "output_type": "execute_result",
          "data": {
            "text/plain": [
              "97.0"
            ]
          },
          "metadata": {},
          "execution_count": 66
        }
      ]
    },
    {
      "cell_type": "code",
      "source": [
        "rslt_df=data[data['SSC']==97.0]\n",
        "rslt_df"
      ],
      "metadata": {
        "colab": {
          "base_uri": "https://localhost:8080/",
          "height": 863
        },
        "id": "jjHUYhwXqlk_",
        "outputId": "a0a0d5c5-aca0-4957-8976-cfad7655bce6"
      },
      "execution_count": null,
      "outputs": [
        {
          "output_type": "execute_result",
          "data": {
            "text/plain": [
              "     StudentNo  DEGREE  INTERMEDIATE   SSC                      INTERNSHIP\n",
              "15        1016    8.10          84.0  97.0  Cloud Computing Services (AWS)\n",
              "24        1025    9.08          97.2  97.0                    Data Science\n",
              "39        1040    9.03          96.5  97.0                    Data Science\n",
              "40        1041    9.34          97.7  97.0                    Data Science\n",
              "83        1084    8.13          90.8  97.0                    Data Science\n",
              "92        1093    8.89          92.0  97.0                    Data Science\n",
              "118       2014    7.00          96.0  97.0  Cloud Computing Services (AWS)\n",
              "133       2029    8.10          92.0  97.0                    Data Science\n",
              "136       2032    7.61          75.1  97.0                    Data Science\n",
              "139       2035    8.50          94.0  97.0      MEAN Stack Web Development\n",
              "143       2039    8.11          79.8  97.0  Cloud Computing Services (AWS)\n",
              "166       2062    7.50          84.0  97.0  Cloud Computing Services (AWS)\n",
              "168       2064    8.78          95.0  97.0                    Data Science\n",
              "187       2083    6.92          92.0  97.0      MEAN Stack Web Development\n",
              "208       2104    7.02          94.2  97.0  Cloud Computing Services (AWS)\n",
              "213       2109    7.23          92.0  97.0      MEAN Stack Web Development\n",
              "226       2122    7.10          94.6  97.0  Cloud Computing Services (AWS)\n",
              "257       2153    9.05          96.5  97.0      MEAN Stack Web Development\n",
              "273       2169    7.00          88.0  97.0                    Data Science"
            ],
            "text/html": [
              "\n",
              "  <div id=\"df-fad117c2-0d25-4a13-8977-3a01c4e67381\">\n",
              "    <div class=\"colab-df-container\">\n",
              "      <div>\n",
              "<style scoped>\n",
              "    .dataframe tbody tr th:only-of-type {\n",
              "        vertical-align: middle;\n",
              "    }\n",
              "\n",
              "    .dataframe tbody tr th {\n",
              "        vertical-align: top;\n",
              "    }\n",
              "\n",
              "    .dataframe thead th {\n",
              "        text-align: right;\n",
              "    }\n",
              "</style>\n",
              "<table border=\"1\" class=\"dataframe\">\n",
              "  <thead>\n",
              "    <tr style=\"text-align: right;\">\n",
              "      <th></th>\n",
              "      <th>StudentNo</th>\n",
              "      <th>DEGREE</th>\n",
              "      <th>INTERMEDIATE</th>\n",
              "      <th>SSC</th>\n",
              "      <th>INTERNSHIP</th>\n",
              "    </tr>\n",
              "  </thead>\n",
              "  <tbody>\n",
              "    <tr>\n",
              "      <th>15</th>\n",
              "      <td>1016</td>\n",
              "      <td>8.10</td>\n",
              "      <td>84.0</td>\n",
              "      <td>97.0</td>\n",
              "      <td>Cloud Computing Services (AWS)</td>\n",
              "    </tr>\n",
              "    <tr>\n",
              "      <th>24</th>\n",
              "      <td>1025</td>\n",
              "      <td>9.08</td>\n",
              "      <td>97.2</td>\n",
              "      <td>97.0</td>\n",
              "      <td>Data Science</td>\n",
              "    </tr>\n",
              "    <tr>\n",
              "      <th>39</th>\n",
              "      <td>1040</td>\n",
              "      <td>9.03</td>\n",
              "      <td>96.5</td>\n",
              "      <td>97.0</td>\n",
              "      <td>Data Science</td>\n",
              "    </tr>\n",
              "    <tr>\n",
              "      <th>40</th>\n",
              "      <td>1041</td>\n",
              "      <td>9.34</td>\n",
              "      <td>97.7</td>\n",
              "      <td>97.0</td>\n",
              "      <td>Data Science</td>\n",
              "    </tr>\n",
              "    <tr>\n",
              "      <th>83</th>\n",
              "      <td>1084</td>\n",
              "      <td>8.13</td>\n",
              "      <td>90.8</td>\n",
              "      <td>97.0</td>\n",
              "      <td>Data Science</td>\n",
              "    </tr>\n",
              "    <tr>\n",
              "      <th>92</th>\n",
              "      <td>1093</td>\n",
              "      <td>8.89</td>\n",
              "      <td>92.0</td>\n",
              "      <td>97.0</td>\n",
              "      <td>Data Science</td>\n",
              "    </tr>\n",
              "    <tr>\n",
              "      <th>118</th>\n",
              "      <td>2014</td>\n",
              "      <td>7.00</td>\n",
              "      <td>96.0</td>\n",
              "      <td>97.0</td>\n",
              "      <td>Cloud Computing Services (AWS)</td>\n",
              "    </tr>\n",
              "    <tr>\n",
              "      <th>133</th>\n",
              "      <td>2029</td>\n",
              "      <td>8.10</td>\n",
              "      <td>92.0</td>\n",
              "      <td>97.0</td>\n",
              "      <td>Data Science</td>\n",
              "    </tr>\n",
              "    <tr>\n",
              "      <th>136</th>\n",
              "      <td>2032</td>\n",
              "      <td>7.61</td>\n",
              "      <td>75.1</td>\n",
              "      <td>97.0</td>\n",
              "      <td>Data Science</td>\n",
              "    </tr>\n",
              "    <tr>\n",
              "      <th>139</th>\n",
              "      <td>2035</td>\n",
              "      <td>8.50</td>\n",
              "      <td>94.0</td>\n",
              "      <td>97.0</td>\n",
              "      <td>MEAN Stack Web Development</td>\n",
              "    </tr>\n",
              "    <tr>\n",
              "      <th>143</th>\n",
              "      <td>2039</td>\n",
              "      <td>8.11</td>\n",
              "      <td>79.8</td>\n",
              "      <td>97.0</td>\n",
              "      <td>Cloud Computing Services (AWS)</td>\n",
              "    </tr>\n",
              "    <tr>\n",
              "      <th>166</th>\n",
              "      <td>2062</td>\n",
              "      <td>7.50</td>\n",
              "      <td>84.0</td>\n",
              "      <td>97.0</td>\n",
              "      <td>Cloud Computing Services (AWS)</td>\n",
              "    </tr>\n",
              "    <tr>\n",
              "      <th>168</th>\n",
              "      <td>2064</td>\n",
              "      <td>8.78</td>\n",
              "      <td>95.0</td>\n",
              "      <td>97.0</td>\n",
              "      <td>Data Science</td>\n",
              "    </tr>\n",
              "    <tr>\n",
              "      <th>187</th>\n",
              "      <td>2083</td>\n",
              "      <td>6.92</td>\n",
              "      <td>92.0</td>\n",
              "      <td>97.0</td>\n",
              "      <td>MEAN Stack Web Development</td>\n",
              "    </tr>\n",
              "    <tr>\n",
              "      <th>208</th>\n",
              "      <td>2104</td>\n",
              "      <td>7.02</td>\n",
              "      <td>94.2</td>\n",
              "      <td>97.0</td>\n",
              "      <td>Cloud Computing Services (AWS)</td>\n",
              "    </tr>\n",
              "    <tr>\n",
              "      <th>213</th>\n",
              "      <td>2109</td>\n",
              "      <td>7.23</td>\n",
              "      <td>92.0</td>\n",
              "      <td>97.0</td>\n",
              "      <td>MEAN Stack Web Development</td>\n",
              "    </tr>\n",
              "    <tr>\n",
              "      <th>226</th>\n",
              "      <td>2122</td>\n",
              "      <td>7.10</td>\n",
              "      <td>94.6</td>\n",
              "      <td>97.0</td>\n",
              "      <td>Cloud Computing Services (AWS)</td>\n",
              "    </tr>\n",
              "    <tr>\n",
              "      <th>257</th>\n",
              "      <td>2153</td>\n",
              "      <td>9.05</td>\n",
              "      <td>96.5</td>\n",
              "      <td>97.0</td>\n",
              "      <td>MEAN Stack Web Development</td>\n",
              "    </tr>\n",
              "    <tr>\n",
              "      <th>273</th>\n",
              "      <td>2169</td>\n",
              "      <td>7.00</td>\n",
              "      <td>88.0</td>\n",
              "      <td>97.0</td>\n",
              "      <td>Data Science</td>\n",
              "    </tr>\n",
              "  </tbody>\n",
              "</table>\n",
              "</div>\n",
              "      <button class=\"colab-df-convert\" onclick=\"convertToInteractive('df-fad117c2-0d25-4a13-8977-3a01c4e67381')\"\n",
              "              title=\"Convert this dataframe to an interactive table.\"\n",
              "              style=\"display:none;\">\n",
              "        \n",
              "  <svg xmlns=\"http://www.w3.org/2000/svg\" height=\"24px\"viewBox=\"0 0 24 24\"\n",
              "       width=\"24px\">\n",
              "    <path d=\"M0 0h24v24H0V0z\" fill=\"none\"/>\n",
              "    <path d=\"M18.56 5.44l.94 2.06.94-2.06 2.06-.94-2.06-.94-.94-2.06-.94 2.06-2.06.94zm-11 1L8.5 8.5l.94-2.06 2.06-.94-2.06-.94L8.5 2.5l-.94 2.06-2.06.94zm10 10l.94 2.06.94-2.06 2.06-.94-2.06-.94-.94-2.06-.94 2.06-2.06.94z\"/><path d=\"M17.41 7.96l-1.37-1.37c-.4-.4-.92-.59-1.43-.59-.52 0-1.04.2-1.43.59L10.3 9.45l-7.72 7.72c-.78.78-.78 2.05 0 2.83L4 21.41c.39.39.9.59 1.41.59.51 0 1.02-.2 1.41-.59l7.78-7.78 2.81-2.81c.8-.78.8-2.07 0-2.86zM5.41 20L4 18.59l7.72-7.72 1.47 1.35L5.41 20z\"/>\n",
              "  </svg>\n",
              "      </button>\n",
              "      \n",
              "  <style>\n",
              "    .colab-df-container {\n",
              "      display:flex;\n",
              "      flex-wrap:wrap;\n",
              "      gap: 12px;\n",
              "    }\n",
              "\n",
              "    .colab-df-convert {\n",
              "      background-color: #E8F0FE;\n",
              "      border: none;\n",
              "      border-radius: 50%;\n",
              "      cursor: pointer;\n",
              "      display: none;\n",
              "      fill: #1967D2;\n",
              "      height: 32px;\n",
              "      padding: 0 0 0 0;\n",
              "      width: 32px;\n",
              "    }\n",
              "\n",
              "    .colab-df-convert:hover {\n",
              "      background-color: #E2EBFA;\n",
              "      box-shadow: 0px 1px 2px rgba(60, 64, 67, 0.3), 0px 1px 3px 1px rgba(60, 64, 67, 0.15);\n",
              "      fill: #174EA6;\n",
              "    }\n",
              "\n",
              "    [theme=dark] .colab-df-convert {\n",
              "      background-color: #3B4455;\n",
              "      fill: #D2E3FC;\n",
              "    }\n",
              "\n",
              "    [theme=dark] .colab-df-convert:hover {\n",
              "      background-color: #434B5C;\n",
              "      box-shadow: 0px 1px 3px 1px rgba(0, 0, 0, 0.15);\n",
              "      filter: drop-shadow(0px 1px 2px rgba(0, 0, 0, 0.3));\n",
              "      fill: #FFFFFF;\n",
              "    }\n",
              "  </style>\n",
              "\n",
              "      <script>\n",
              "        const buttonEl =\n",
              "          document.querySelector('#df-fad117c2-0d25-4a13-8977-3a01c4e67381 button.colab-df-convert');\n",
              "        buttonEl.style.display =\n",
              "          google.colab.kernel.accessAllowed ? 'block' : 'none';\n",
              "\n",
              "        async function convertToInteractive(key) {\n",
              "          const element = document.querySelector('#df-fad117c2-0d25-4a13-8977-3a01c4e67381');\n",
              "          const dataTable =\n",
              "            await google.colab.kernel.invokeFunction('convertToInteractive',\n",
              "                                                     [key], {});\n",
              "          if (!dataTable) return;\n",
              "\n",
              "          const docLinkHtml = 'Like what you see? Visit the ' +\n",
              "            '<a target=\"_blank\" href=https://colab.research.google.com/notebooks/data_table.ipynb>data table notebook</a>'\n",
              "            + ' to learn more about interactive tables.';\n",
              "          element.innerHTML = '';\n",
              "          dataTable['output_type'] = 'display_data';\n",
              "          await google.colab.output.renderOutput(dataTable, element);\n",
              "          const docLink = document.createElement('div');\n",
              "          docLink.innerHTML = docLinkHtml;\n",
              "          element.appendChild(docLink);\n",
              "        }\n",
              "      </script>\n",
              "    </div>\n",
              "  </div>\n",
              "  "
            ]
          },
          "metadata": {},
          "execution_count": 67
        }
      ]
    },
    {
      "cell_type": "code",
      "source": [
        "data['DEGREE'].quantile(.90)"
      ],
      "metadata": {
        "colab": {
          "base_uri": "https://localhost:8080/"
        },
        "id": "tnHSchXXqW7a",
        "outputId": "268a372f-55b3-4039-912e-bf87c6712012"
      },
      "execution_count": null,
      "outputs": [
        {
          "output_type": "execute_result",
          "data": {
            "text/plain": [
              "8.9"
            ]
          },
          "metadata": {},
          "execution_count": 64
        }
      ]
    },
    {
      "cell_type": "code",
      "source": [
        "rslt_df=data[data['DEGREE']==8.9]\n",
        "rslt_df"
      ],
      "metadata": {
        "colab": {
          "base_uri": "https://localhost:8080/",
          "height": 239
        },
        "id": "AMx7ip8_qzcE",
        "outputId": "36323c17-b064-4715-df91-a1f426ba9077"
      },
      "execution_count": null,
      "outputs": [
        {
          "output_type": "execute_result",
          "data": {
            "text/plain": [
              "     StudentNo  DEGREE  INTERMEDIATE   SSC                      INTERNSHIP\n",
              "5         1006     8.9          83.0  64.0  Cloud Computing Services (AWS)\n",
              "107       2003     8.9          83.0  64.0  Cloud Computing Services (AWS)\n",
              "111       2007     8.9          75.4  92.0  Cloud Computing Services (AWS)"
            ],
            "text/html": [
              "\n",
              "  <div id=\"df-00615560-ce59-479a-a332-e9e2cae52cc9\">\n",
              "    <div class=\"colab-df-container\">\n",
              "      <div>\n",
              "<style scoped>\n",
              "    .dataframe tbody tr th:only-of-type {\n",
              "        vertical-align: middle;\n",
              "    }\n",
              "\n",
              "    .dataframe tbody tr th {\n",
              "        vertical-align: top;\n",
              "    }\n",
              "\n",
              "    .dataframe thead th {\n",
              "        text-align: right;\n",
              "    }\n",
              "</style>\n",
              "<table border=\"1\" class=\"dataframe\">\n",
              "  <thead>\n",
              "    <tr style=\"text-align: right;\">\n",
              "      <th></th>\n",
              "      <th>StudentNo</th>\n",
              "      <th>DEGREE</th>\n",
              "      <th>INTERMEDIATE</th>\n",
              "      <th>SSC</th>\n",
              "      <th>INTERNSHIP</th>\n",
              "    </tr>\n",
              "  </thead>\n",
              "  <tbody>\n",
              "    <tr>\n",
              "      <th>5</th>\n",
              "      <td>1006</td>\n",
              "      <td>8.9</td>\n",
              "      <td>83.0</td>\n",
              "      <td>64.0</td>\n",
              "      <td>Cloud Computing Services (AWS)</td>\n",
              "    </tr>\n",
              "    <tr>\n",
              "      <th>107</th>\n",
              "      <td>2003</td>\n",
              "      <td>8.9</td>\n",
              "      <td>83.0</td>\n",
              "      <td>64.0</td>\n",
              "      <td>Cloud Computing Services (AWS)</td>\n",
              "    </tr>\n",
              "    <tr>\n",
              "      <th>111</th>\n",
              "      <td>2007</td>\n",
              "      <td>8.9</td>\n",
              "      <td>75.4</td>\n",
              "      <td>92.0</td>\n",
              "      <td>Cloud Computing Services (AWS)</td>\n",
              "    </tr>\n",
              "  </tbody>\n",
              "</table>\n",
              "</div>\n",
              "      <button class=\"colab-df-convert\" onclick=\"convertToInteractive('df-00615560-ce59-479a-a332-e9e2cae52cc9')\"\n",
              "              title=\"Convert this dataframe to an interactive table.\"\n",
              "              style=\"display:none;\">\n",
              "        \n",
              "  <svg xmlns=\"http://www.w3.org/2000/svg\" height=\"24px\"viewBox=\"0 0 24 24\"\n",
              "       width=\"24px\">\n",
              "    <path d=\"M0 0h24v24H0V0z\" fill=\"none\"/>\n",
              "    <path d=\"M18.56 5.44l.94 2.06.94-2.06 2.06-.94-2.06-.94-.94-2.06-.94 2.06-2.06.94zm-11 1L8.5 8.5l.94-2.06 2.06-.94-2.06-.94L8.5 2.5l-.94 2.06-2.06.94zm10 10l.94 2.06.94-2.06 2.06-.94-2.06-.94-.94-2.06-.94 2.06-2.06.94z\"/><path d=\"M17.41 7.96l-1.37-1.37c-.4-.4-.92-.59-1.43-.59-.52 0-1.04.2-1.43.59L10.3 9.45l-7.72 7.72c-.78.78-.78 2.05 0 2.83L4 21.41c.39.39.9.59 1.41.59.51 0 1.02-.2 1.41-.59l7.78-7.78 2.81-2.81c.8-.78.8-2.07 0-2.86zM5.41 20L4 18.59l7.72-7.72 1.47 1.35L5.41 20z\"/>\n",
              "  </svg>\n",
              "      </button>\n",
              "      \n",
              "  <style>\n",
              "    .colab-df-container {\n",
              "      display:flex;\n",
              "      flex-wrap:wrap;\n",
              "      gap: 12px;\n",
              "    }\n",
              "\n",
              "    .colab-df-convert {\n",
              "      background-color: #E8F0FE;\n",
              "      border: none;\n",
              "      border-radius: 50%;\n",
              "      cursor: pointer;\n",
              "      display: none;\n",
              "      fill: #1967D2;\n",
              "      height: 32px;\n",
              "      padding: 0 0 0 0;\n",
              "      width: 32px;\n",
              "    }\n",
              "\n",
              "    .colab-df-convert:hover {\n",
              "      background-color: #E2EBFA;\n",
              "      box-shadow: 0px 1px 2px rgba(60, 64, 67, 0.3), 0px 1px 3px 1px rgba(60, 64, 67, 0.15);\n",
              "      fill: #174EA6;\n",
              "    }\n",
              "\n",
              "    [theme=dark] .colab-df-convert {\n",
              "      background-color: #3B4455;\n",
              "      fill: #D2E3FC;\n",
              "    }\n",
              "\n",
              "    [theme=dark] .colab-df-convert:hover {\n",
              "      background-color: #434B5C;\n",
              "      box-shadow: 0px 1px 3px 1px rgba(0, 0, 0, 0.15);\n",
              "      filter: drop-shadow(0px 1px 2px rgba(0, 0, 0, 0.3));\n",
              "      fill: #FFFFFF;\n",
              "    }\n",
              "  </style>\n",
              "\n",
              "      <script>\n",
              "        const buttonEl =\n",
              "          document.querySelector('#df-00615560-ce59-479a-a332-e9e2cae52cc9 button.colab-df-convert');\n",
              "        buttonEl.style.display =\n",
              "          google.colab.kernel.accessAllowed ? 'block' : 'none';\n",
              "\n",
              "        async function convertToInteractive(key) {\n",
              "          const element = document.querySelector('#df-00615560-ce59-479a-a332-e9e2cae52cc9');\n",
              "          const dataTable =\n",
              "            await google.colab.kernel.invokeFunction('convertToInteractive',\n",
              "                                                     [key], {});\n",
              "          if (!dataTable) return;\n",
              "\n",
              "          const docLinkHtml = 'Like what you see? Visit the ' +\n",
              "            '<a target=\"_blank\" href=https://colab.research.google.com/notebooks/data_table.ipynb>data table notebook</a>'\n",
              "            + ' to learn more about interactive tables.';\n",
              "          element.innerHTML = '';\n",
              "          dataTable['output_type'] = 'display_data';\n",
              "          await google.colab.output.renderOutput(dataTable, element);\n",
              "          const docLink = document.createElement('div');\n",
              "          docLink.innerHTML = docLinkHtml;\n",
              "          element.appendChild(docLink);\n",
              "        }\n",
              "      </script>\n",
              "    </div>\n",
              "  </div>\n",
              "  "
            ]
          },
          "metadata": {},
          "execution_count": 65
        }
      ]
    }
  ]
}